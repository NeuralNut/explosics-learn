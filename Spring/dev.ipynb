{
 "cells": [
  {
   "cell_type": "code",
   "execution_count": null,
   "metadata": {},
   "outputs": [],
   "source": []
  },
  {
   "cell_type": "code",
   "execution_count": null,
   "metadata": {},
   "outputs": [],
   "source": [
    "import torch\n",
    "import torch.nn as nn\n",
    "\n",
    "# state space approximation of the underdamped spring-mass-damper system\n",
    "class PhysicsInformedNN(nn.Module):\n",
    "    def __init__(self, input_dim, hidden_dim, output_dim, m, c, k):\n",
    "        super(PhysicsInformedNN, self).__init__()\n",
    "        self.fc1 = nn.Linear(input_dim, hidden_dim)\n",
    "        self.fc2 = nn.Linear(hidden_dim, hidden_dim)\n",
    "        self.fc3 = nn.Linear(hidden_dim, output_dim)\n",
    "        \n",
    "        # State space matrices for the underdamped spring\n",
    "        self.A = torch.tensor([[0, 1], [-k/m, -c/m]], dtype=torch.float32)\n",
    "        self.B = torch.tensor([[0], [1]], dtype=torch.float32)  # Assuming a zero input (free response)\n",
    "\n",
    "    def forward(self, x):\n",
    "        x = torch.relu(self.fc1(x))\n",
    "        x = torch.relu(self.fc2(x))\n",
    "        x = self.fc3(x)\n",
    "        return x\n",
    "    \n",
    "    def physics_loss(self, x):\n",
    "        # x is the state vector\n",
    "        dx = torch.matmul(self.A, x.T).T  # Calculate the state derivative\n",
    "        return dx\n",
    "\n",
    "# Example usage\n",
    "m = 1.0  # Mass\n",
    "c = 0.2  # Damping coefficient\n",
    "k = 1.0  # Spring constant\n",
    "\n",
    "model = PhysicsInformedNN(input_dim=2, hidden_dim=50, output_dim=2, m=m, c=c, k=k)\n",
    "optimizer = torch.optim.Adam(model.parameters(), lr=0.001)\n",
    "\n",
    "# Dummy data (initial state and zero input for simplicity)\n",
    "x = torch.randn(10, 2)\n",
    "\n",
    "# Forward pass\n",
    "output = model(x)\n",
    "\n",
    "# Compute physics-based loss\n",
    "loss = model.physics_loss(x).mean()  # Mean of the physics loss over the batch\n",
    "\n",
    "loss\n"
   ]
  }
 ],
 "metadata": {
  "language_info": {
   "name": "python"
  }
 },
 "nbformat": 4,
 "nbformat_minor": 2
}
